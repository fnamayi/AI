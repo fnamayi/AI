{
 "cells": [
  {
   "cell_type": "code",
   "execution_count": null,
   "id": "202aba87-54be-4cd2-b56a-aac5bfae419e",
   "metadata": {},
   "outputs": [],
   "source": [
    "# Exercise 1: Your first DataFrame\n"
   ]
  },
  {
   "cell_type": "code",
   "execution_count": null,
   "id": "5c7bdd1d-1be4-49e7-9b32-ab6a1f61b01a",
   "metadata": {},
   "outputs": [],
   "source": [
    "# creating dataframe from numpy array"
   ]
  },
  {
   "cell_type": "code",
   "execution_count": null,
   "id": "f69f2c95-1701-44b9-96c6-d4e9e80b99c8",
   "metadata": {},
   "outputs": [],
   "source": [
    "\n",
    "import pandas as pd\n",
    "import numpy as np\n",
    "\n",
    "data = np.array([\n",
    "    ['Blue',[1,2],1.1],\n",
    "    ['Red',[3,4],2.2],\n",
    "    ['Pink',[5,6],3.3],\n",
    "    )"
   ]
  }
 ],
 "metadata": {
  "kernelspec": {
   "display_name": "Python 3 (ipykernel)",
   "language": "python",
   "name": "python3"
  },
  "language_info": {
   "codemirror_mode": {
    "name": "ipython",
    "version": 3
   },
   "file_extension": ".py",
   "mimetype": "text/x-python",
   "name": "python",
   "nbconvert_exporter": "python",
   "pygments_lexer": "ipython3",
   "version": "3.9.23"
  }
 },
 "nbformat": 4,
 "nbformat_minor": 5
}

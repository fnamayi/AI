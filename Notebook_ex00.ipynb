{
 "cells": [
  {
   "cell_type": "code",
   "execution_count": 2,
   "id": "057a3342",
   "metadata": {},
   "outputs": [],
   "source": [
    "# H1 TITLE\n",
    "## H2 TITLE"
   ]
  },
  {
   "cell_type": "code",
   "execution_count": 1,
   "id": "25cada1b",
   "metadata": {},
   "outputs": [
    {
     "name": "stdout",
     "output_type": "stream",
     "text": [
      "Buy the dip ?\n"
     ]
    }
   ],
   "source": [
    "print(\"Buy the dip ?\")"
   ]
  },
  {
   "cell_type": "code",
   "execution_count": null,
   "id": "1ef34607",
   "metadata": {},
   "outputs": [],
   "source": [
    "# Exercise 1\n",
    "## Numpy array (data types)"
   ]
  },
  {
   "cell_type": "code",
   "execution_count": 1,
   "id": "43cafa70",
   "metadata": {},
   "outputs": [
    {
     "name": "stdout",
     "output_type": "stream",
     "text": [
      "<class 'int'>\n",
      "<class 'float'>\n",
      "<class 'str'>\n",
      "<class 'dict'>\n",
      "<class 'list'>\n",
      "<class 'tuple'>\n",
      "<class 'set'>\n",
      "<class 'bool'>\n"
     ]
    }
   ],
   "source": [
    "import numpy as np\n",
    "\n",
    "my_array = np.array([\n",
    "    10, #int\n",
    "    3.142, #float\n",
    "    \"hello world\", #string\n",
    "    {\"key\":\"value\"}, #dictionary\n",
    "    [1,2,3], #list\n",
    "    (2,4,6), #tuple\n",
    "    {4,8,12}, #set\n",
    "    True, #boolean\n",
    "    \n",
    "], dtype=object) #the dtype=object is used to store heterogeneous types\n",
    "\n",
    "for i in my_array:\n",
    "    print(type(i))"
   ]
  },
  {
   "cell_type": "code",
   "execution_count": null,
   "id": "f6e38624",
   "metadata": {},
   "outputs": [],
   "source": [
    "#Exercise 2\n",
    "## numpy arrays with zeros"
   ]
  },
  {
   "cell_type": "code",
   "execution_count": 4,
   "id": "aed1a6aa",
   "metadata": {},
   "outputs": [
    {
     "name": "stdout",
     "output_type": "stream",
     "text": [
      "[[0. 0. 0. 0. 0. 0. 0. 0. 0. 0. 0. 0. 0. 0. 0. 0. 0. 0. 0. 0. 0. 0. 0. 0.\n",
      "  0. 0. 0. 0. 0. 0. 0. 0. 0. 0. 0. 0. 0. 0. 0. 0. 0. 0. 0. 0. 0. 0. 0. 0.\n",
      "  0. 0. 0. 0. 0. 0. 0. 0. 0. 0. 0. 0. 0. 0. 0. 0. 0. 0. 0. 0. 0. 0. 0. 0.\n",
      "  0. 0. 0. 0. 0. 0. 0. 0. 0. 0. 0. 0. 0. 0. 0. 0. 0. 0. 0. 0. 0. 0. 0. 0.\n",
      "  0. 0. 0. 0.]\n",
      " [0. 0. 0. 0. 0. 0. 0. 0. 0. 0. 0. 0. 0. 0. 0. 0. 0. 0. 0. 0. 0. 0. 0. 0.\n",
      "  0. 0. 0. 0. 0. 0. 0. 0. 0. 0. 0. 0. 0. 0. 0. 0. 0. 0. 0. 0. 0. 0. 0. 0.\n",
      "  0. 0. 0. 0. 0. 0. 0. 0. 0. 0. 0. 0. 0. 0. 0. 0. 0. 0. 0. 0. 0. 0. 0. 0.\n",
      "  0. 0. 0. 0. 0. 0. 0. 0. 0. 0. 0. 0. 0. 0. 0. 0. 0. 0. 0. 0. 0. 0. 0. 0.\n",
      "  0. 0. 0. 0.]\n",
      " [0. 0. 0. 0. 0. 0. 0. 0. 0. 0. 0. 0. 0. 0. 0. 0. 0. 0. 0. 0. 0. 0. 0. 0.\n",
      "  0. 0. 0. 0. 0. 0. 0. 0. 0. 0. 0. 0. 0. 0. 0. 0. 0. 0. 0. 0. 0. 0. 0. 0.\n",
      "  0. 0. 0. 0. 0. 0. 0. 0. 0. 0. 0. 0. 0. 0. 0. 0. 0. 0. 0. 0. 0. 0. 0. 0.\n",
      "  0. 0. 0. 0. 0. 0. 0. 0. 0. 0. 0. 0. 0. 0. 0. 0. 0. 0. 0. 0. 0. 0. 0. 0.\n",
      "  0. 0. 0. 0.]]\n"
     ]
    }
   ],
   "source": [
    "import numpy as np\n",
    "\n",
    "#this creates a 1D array of dimention 300 with zeros(1,300)\n",
    "zero_array = np.zeros(300)\n",
    "# print(zero_array)\n",
    "\n",
    "#reshape it to (3,100)\n",
    "reshaped_array = zero_array.reshape(3,100)\n",
    "print(reshaped_array)"
   ]
  },
  {
   "cell_type": "code",
   "execution_count": null,
   "id": "973f9020",
   "metadata": {},
   "outputs": [],
   "source": [
    "# Exercise 3: Slicing\n",
    "## The goal of this exercise is to learn NumPy indexing/slicing. It allows to access values of the NumPy array efficiently and without a for loop."
   ]
  },
  {
   "cell_type": "code",
   "execution_count": 9,
   "id": "6cd840b5",
   "metadata": {},
   "outputs": [
    {
     "name": "stdout",
     "output_type": "stream",
     "text": [
      "[  1   0   3   4   0   6   7   0   9  10   0  12  13   0  15  16   0  18\n",
      "  19   0  21  22   0  24  25   0  27  28   0  30  31   0  33  34   0  36\n",
      "  37   0  39  40   0  42  43   0  45  46   0  48  49   0  51  52   0  54\n",
      "  55   0  57  58   0  60  61   0  63  64   0  66  67   0  69  70   0  72\n",
      "  73   0  75  76   0  78  79   0  81  82   0  84  85   0  87  88   0  90\n",
      "  91   0  93  94   0  96  97   0  99 100]\n"
     ]
    }
   ],
   "source": [
    "import numpy as np\n",
    "\n",
    "#an array of 100 int\n",
    "arr_1_to_100 = np.arange(1,101)\n",
    "# print(arr_1_to_100)\n",
    "\n",
    " #array for odd intergers\n",
    "odd_array = arr_1_to_100[::2] #or arr_1_to_100[arr_1_to_100 % 2 == 1]\n",
    "# print(odd_array)\n",
    "\n",
    "#array with even interger reversed\n",
    "even_array = arr_1_to_100[1::2][::-1]\n",
    "# print(even_array)\n",
    "\n",
    "#array with each third element from 2nd set to 0\n",
    "modified_array = arr_1_to_100.copy() #not to change the original\n",
    "modified_array[1::3] = 0\n",
    "print(modified_array)\n"
   ]
  },
  {
   "cell_type": "code",
   "execution_count": null,
   "id": "19ebe498",
   "metadata": {},
   "outputs": [],
   "source": [
    "# Exercise 4: Random generator\n",
    "## Generating random data with normal and uniform distributions"
   ]
  },
  {
   "cell_type": "code",
   "execution_count": 28,
   "id": "c26c9242",
   "metadata": {},
   "outputs": [
    {
     "name": "stdout",
     "output_type": "stream",
     "text": [
      "shape: (4, 2, 5)\n",
      "[[[ 5  2 13 16 15]\n",
      "  [ 5  5  2 11  3]]\n",
      "\n",
      " [[ 8 13  6  4 17]\n",
      "  [ 2  8  1 13 10]]\n",
      "\n",
      " [[12 17 17 12  1]\n",
      "  [10  8 17  5 11]]\n",
      "\n",
      " [[ 9 14  2 15 13]\n",
      "  [12 14  6 14  2]]]\n"
     ]
    }
   ],
   "source": [
    "import numpy as np\n",
    "\n",
    "np.random.seed(888) #makes the random numbers reproducible\n",
    "\n",
    "normal_1d = np.random.randn(100)\n",
    "\n",
    "# print(f\"shape: {normal_1d.shape}\")\n",
    "# print(f\"sample: {normal_1d[:4]}...\\n\")\n",
    "\n",
    "#8x8 uniform integer array (1-10) aka 2d\n",
    "uniform_2d = np.random.randint(1,11,size=(8,8))\n",
    "# print(f\" shape: {uniform_2d.shape}\\n\")\n",
    "# print(uniform_2d)\n",
    "\n",
    "#4x2x5 uniform integer array (1-17)\n",
    "\n",
    "uniform_3d = np.random.randint(1,18,size=(4,2,5))\n",
    "print(f\"shape: {uniform_3d.shape}\")\n",
    "print(uniform_3d)"
   ]
  },
  {
   "cell_type": "code",
   "execution_count": null,
   "id": "54abb72c",
   "metadata": {},
   "outputs": [],
   "source": []
  }
 ],
 "metadata": {
  "kernelspec": {
   "display_name": "Python 3 (ipykernel)",
   "language": "python",
   "name": "python3"
  },
  "language_info": {
   "codemirror_mode": {
    "name": "ipython",
    "version": 3
   },
   "file_extension": ".py",
   "mimetype": "text/x-python",
   "name": "python",
   "nbconvert_exporter": "python",
   "pygments_lexer": "ipython3",
   "version": "3.12.3"
  }
 },
 "nbformat": 4,
 "nbformat_minor": 5
}

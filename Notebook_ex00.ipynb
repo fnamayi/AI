{
 "cells": [
  {
   "cell_type": "markdown",
   "id": "a1936c95",
   "metadata": {},
   "source": [
    "# H1 TITLE\n",
    "## H2 TITLE"
   ]
  },
  {
   "cell_type": "code",
   "execution_count": 1,
   "id": "25cada1b",
   "metadata": {},
   "outputs": [
    {
     "name": "stdout",
     "output_type": "stream",
     "text": [
      "Buy the dip ?\n"
     ]
    }
   ],
   "source": [
    "print(\"Buy the dip ?\")"
   ]
  },
  {
   "cell_type": "markdown",
   "id": "de2f34e4",
   "metadata": {},
   "source": [
    "# Exercise 1\n",
    "## Numpy array (data types)"
   ]
  },
  {
   "cell_type": "code",
   "execution_count": 1,
   "id": "761190da",
   "metadata": {},
   "outputs": [
    {
     "name": "stdout",
     "output_type": "stream",
     "text": [
      "<class 'int'>\n",
      "<class 'float'>\n",
      "<class 'str'>\n",
      "<class 'dict'>\n",
      "<class 'list'>\n",
      "<class 'tuple'>\n",
      "<class 'set'>\n",
      "<class 'bool'>\n"
     ]
    }
   ],
   "source": [
    "import numpy as np\n",
    "\n",
    "my_array = np.array([\n",
    "    10, #int\n",
    "    3.142, #float\n",
    "    \"hello world\", #string\n",
    "    {\"key\":\"value\"}, #dictionary\n",
    "    [1,2,3], #list\n",
    "    (2,4,6), #tuple\n",
    "    {4,8,12}, #set\n",
    "    True, #boolean\n",
    "    \n",
    "], dtype=object) #the dtype=object is used to store heterogeneous types\n",
    "\n",
    "for i in my_array:\n",
    "    print(type(i))"
   ]
  },
  {
   "cell_type": "markdown",
   "id": "748bae48",
   "metadata": {},
   "source": [
    "#Exercise 2\n",
    "## numpy arrays with zeros"
   ]
  },
  {
   "cell_type": "code",
   "execution_count": 4,
   "id": "6a539d6c",
   "metadata": {},
   "outputs": [
    {
     "name": "stdout",
     "output_type": "stream",
     "text": [
      "[[0. 0. 0. 0. 0. 0. 0. 0. 0. 0. 0. 0. 0. 0. 0. 0. 0. 0. 0. 0. 0. 0. 0. 0.\n",
      "  0. 0. 0. 0. 0. 0. 0. 0. 0. 0. 0. 0. 0. 0. 0. 0. 0. 0. 0. 0. 0. 0. 0. 0.\n",
      "  0. 0. 0. 0. 0. 0. 0. 0. 0. 0. 0. 0. 0. 0. 0. 0. 0. 0. 0. 0. 0. 0. 0. 0.\n",
      "  0. 0. 0. 0. 0. 0. 0. 0. 0. 0. 0. 0. 0. 0. 0. 0. 0. 0. 0. 0. 0. 0. 0. 0.\n",
      "  0. 0. 0. 0.]\n",
      " [0. 0. 0. 0. 0. 0. 0. 0. 0. 0. 0. 0. 0. 0. 0. 0. 0. 0. 0. 0. 0. 0. 0. 0.\n",
      "  0. 0. 0. 0. 0. 0. 0. 0. 0. 0. 0. 0. 0. 0. 0. 0. 0. 0. 0. 0. 0. 0. 0. 0.\n",
      "  0. 0. 0. 0. 0. 0. 0. 0. 0. 0. 0. 0. 0. 0. 0. 0. 0. 0. 0. 0. 0. 0. 0. 0.\n",
      "  0. 0. 0. 0. 0. 0. 0. 0. 0. 0. 0. 0. 0. 0. 0. 0. 0. 0. 0. 0. 0. 0. 0. 0.\n",
      "  0. 0. 0. 0.]\n",
      " [0. 0. 0. 0. 0. 0. 0. 0. 0. 0. 0. 0. 0. 0. 0. 0. 0. 0. 0. 0. 0. 0. 0. 0.\n",
      "  0. 0. 0. 0. 0. 0. 0. 0. 0. 0. 0. 0. 0. 0. 0. 0. 0. 0. 0. 0. 0. 0. 0. 0.\n",
      "  0. 0. 0. 0. 0. 0. 0. 0. 0. 0. 0. 0. 0. 0. 0. 0. 0. 0. 0. 0. 0. 0. 0. 0.\n",
      "  0. 0. 0. 0. 0. 0. 0. 0. 0. 0. 0. 0. 0. 0. 0. 0. 0. 0. 0. 0. 0. 0. 0. 0.\n",
      "  0. 0. 0. 0.]]\n"
     ]
    }
   ],
   "source": [
    "import numpy as np\n",
    "\n",
    "#this creates a 1D array of dimention 300 with zeros(1,300)\n",
    "zero_array = np.zeros(300)\n",
    "# print(zero_array)\n",
    "\n",
    "#reshape it to (3,100)\n",
    "reshaped_array = zero_array.reshape(3,100)\n",
    "print(reshaped_array)"
   ]
  },
  {
   "cell_type": "markdown",
   "id": "8b517b1f",
   "metadata": {},
   "source": [
    "# Exercise 3: Slicing\n",
    "## The goal of this exercise is to learn NumPy indexing/slicing. It allows to access values of the NumPy array efficiently and without a for loop."
   ]
  },
  {
   "cell_type": "code",
   "execution_count": 9,
   "id": "9e0e9422",
   "metadata": {},
   "outputs": [
    {
     "name": "stdout",
     "output_type": "stream",
     "text": [
      "[  1   0   3   4   0   6   7   0   9  10   0  12  13   0  15  16   0  18\n",
      "  19   0  21  22   0  24  25   0  27  28   0  30  31   0  33  34   0  36\n",
      "  37   0  39  40   0  42  43   0  45  46   0  48  49   0  51  52   0  54\n",
      "  55   0  57  58   0  60  61   0  63  64   0  66  67   0  69  70   0  72\n",
      "  73   0  75  76   0  78  79   0  81  82   0  84  85   0  87  88   0  90\n",
      "  91   0  93  94   0  96  97   0  99 100]\n"
     ]
    }
   ],
   "source": [
    "import numpy as np\n",
    "\n",
    "#an array of 100 int\n",
    "arr_1_to_100 = np.arange(1,101)\n",
    "# print(arr_1_to_100)\n",
    "\n",
    " #array for odd intergers\n",
    "odd_array = arr_1_to_100[::2] #or arr_1_to_100[arr_1_to_100 % 2 == 1]\n",
    "# print(odd_array)\n",
    "\n",
    "#array with even interger reversed\n",
    "even_array = arr_1_to_100[1::2][::-1]\n",
    "# print(even_array)\n",
    "\n",
    "#array with each third element from 2nd set to 0\n",
    "modified_array = arr_1_to_100.copy() #not to change the original\n",
    "modified_array[1::3] = 0\n",
    "print(modified_array)\n"
   ]
  },
  {
   "cell_type": "markdown",
   "id": "ac082bb8",
   "metadata": {},
   "source": [
    "# Exercise 4: Random generator\n",
    "## Generating random data with normal and uniform distributions"
   ]
  },
  {
   "cell_type": "code",
   "execution_count": 28,
   "id": "c36dd137",
   "metadata": {},
   "outputs": [
    {
     "name": "stdout",
     "output_type": "stream",
     "text": [
      "shape: (4, 2, 5)\n",
      "[[[ 5  2 13 16 15]\n",
      "  [ 5  5  2 11  3]]\n",
      "\n",
      " [[ 8 13  6  4 17]\n",
      "  [ 2  8  1 13 10]]\n",
      "\n",
      " [[12 17 17 12  1]\n",
      "  [10  8 17  5 11]]\n",
      "\n",
      " [[ 9 14  2 15 13]\n",
      "  [12 14  6 14  2]]]\n"
     ]
    }
   ],
   "source": [
    "import numpy as np\n",
    "\n",
    "np.random.seed(888) #makes the random numbers reproducible\n",
    "\n",
    "normal_1d = np.random.randn(100)\n",
    "\n",
    "# print(f\"shape: {normal_1d.shape}\")\n",
    "# print(f\"sample: {normal_1d[:4]}...\\n\")\n",
    "\n",
    "#8x8 uniform integer array (1-10) aka 2d\n",
    "uniform_2d = np.random.randint(1,11,size=(8,8))\n",
    "# print(f\" shape: {uniform_2d.shape}\\n\")\n",
    "# print(uniform_2d)\n",
    "\n",
    "#4x2x5 uniform integer array (1-17)\n",
    "\n",
    "uniform_3d = np.random.randint(1,18,size=(4,2,5))\n",
    "print(f\"shape: {uniform_3d.shape}\")\n",
    "print(uniform_3d)"
   ]
  },
  {
   "cell_type": "markdown",
   "id": "ec42a206",
   "metadata": {},
   "source": [
    "# Exercise 5: Split, concatenate, reshape arrays\n",
    "## kuiva array manipulations"
   ]
  },
  {
   "cell_type": "code",
   "execution_count": 41,
   "id": "e2c7c43e",
   "metadata": {},
   "outputs": [
    {
     "name": "stdout",
     "output_type": "stream",
     "text": [
      "[ 1  2  3  4  5  6  7  8  9 10 11 12 13 14 15 16 17 18 19 20 21 22 23 24\n",
      " 25 26 27 28 29 30 31 32 33 34 35 36 37 38 39 40 41 42 43 44 45 46 47 48\n",
      " 49 50]\n",
      "\n",
      "[ 51  52  53  54  55  56  57  58  59  60  61  62  63  64  65  66  67  68\n",
      "  69  70  71  72  73  74  75  76  77  78  79  80  81  82  83  84  85  86\n",
      "  87  88  89  90  91  92  93  94  95  96  97  98  99 100]\n",
      "\n",
      "[  1   2   3   4   5   6   7   8   9  10  11  12  13  14  15  16  17  18\n",
      "  19  20  21  22  23  24  25  26  27  28  29  30  31  32  33  34  35  36\n",
      "  37  38  39  40  41  42  43  44  45  46  47  48  49  50  51  52  53  54\n",
      "  55  56  57  58  59  60  61  62  63  64  65  66  67  68  69  70  71  72\n",
      "  73  74  75  76  77  78  79  80  81  82  83  84  85  86  87  88  89  90\n",
      "  91  92  93  94  95  96  97  98  99 100]\n",
      "\n",
      "[[  1   2   3   4   5   6   7   8   9  10]\n",
      " [ 11  12  13  14  15  16  17  18  19  20]\n",
      " [ 21  22  23  24  25  26  27  28  29  30]\n",
      " [ 31  32  33  34  35  36  37  38  39  40]\n",
      " [ 41  42  43  44  45  46  47  48  49  50]\n",
      " [ 51  52  53  54  55  56  57  58  59  60]\n",
      " [ 61  62  63  64  65  66  67  68  69  70]\n",
      " [ 71  72  73  74  75  76  77  78  79  80]\n",
      " [ 81  82  83  84  85  86  87  88  89  90]\n",
      " [ 91  92  93  94  95  96  97  98  99 100]]\n"
     ]
    }
   ],
   "source": [
    "import numpy as np\n",
    "\n",
    "array_1=np.arange(1,51)\n",
    "print(f\"{array_1}\\n\")\n",
    "\n",
    "array_2= np.arange(51,101)\n",
    "print(f\"{array_2}\\n\")\n",
    "\n",
    "#concate\n",
    "concate = np.concatenate([array_1,array_2])\n",
    "print(f\"{concate}\\n\")\n",
    "\n",
    "#reshape matrix (10,10)\n",
    "reshaped = concate.reshape(10,10)\n",
    "print(reshaped)"
   ]
  },
  {
   "cell_type": "markdown",
   "id": "1ecdbf7b",
   "metadata": {},
   "source": [
    "# Exercise 6: Broadcasting and Slicing\n",
    "## The goal of this exercise is to learn to access values of n-dimensional arrays efficiently."
   ]
  },
  {
   "cell_type": "code",
   "execution_count": 53,
   "id": "314ac91d",
   "metadata": {},
   "outputs": [
    {
     "name": "stdout",
     "output_type": "stream",
     "text": [
      "[[1 1 1 1 1 1 1 1 1]\n",
      " [1 1 1 1 1 1 1 1 1]\n",
      " [1 1 1 1 1 1 1 1 1]\n",
      " [1 1 1 1 1 1 1 1 1]\n",
      " [1 1 1 1 1 1 1 1 1]\n",
      " [1 1 1 1 1 1 1 1 1]\n",
      " [1 1 1 1 1 1 1 1 1]\n",
      " [1 1 1 1 1 1 1 1 1]\n",
      " [1 1 1 1 1 1 1 1 1]] \n",
      "\n",
      "[[1 1 1 1 1 1 1 1 1]\n",
      " [1 0 0 0 0 0 0 0 1]\n",
      " [1 0 1 1 1 1 1 0 1]\n",
      " [1 0 1 0 0 0 1 0 1]\n",
      " [1 0 1 0 1 0 1 0 1]\n",
      " [1 0 1 0 0 0 1 0 1]\n",
      " [1 0 1 1 1 1 1 0 1]\n",
      " [1 0 0 0 0 0 0 0 1]\n",
      " [1 1 1 1 1 1 1 1 1]] \n",
      "\n",
      "[[ 1  2  3]\n",
      " [ 2  4  6]\n",
      " [ 3  6  9]\n",
      " [ 4  8 12]\n",
      " [ 5 10 15]]\n"
     ]
    }
   ],
   "source": [
    "import numpy as np\n",
    "\n",
    "#creating a 9x9 ones array\n",
    "base_arr = np.ones((9,9),dtype=np.int8)\n",
    "print(base_arr,\"\\n\")\n",
    "\n",
    "# creating the inner patterns using slices\n",
    "pattern = base_arr.copy()\n",
    "pattern[1:8,1:8]=0\n",
    "pattern[2:7,2:7]=1\n",
    "pattern[3:6,3:6]=0\n",
    "pattern[4,4]=1\n",
    "\n",
    "print(pattern,\"\\n\")\n",
    "\n",
    "#broadcasting\n",
    "array_1 = np.array([1,2,3,4,5], dtype=np.int8)\n",
    "array_2 = np.array([1,2,3], dtype=np.int8)\n",
    "result= array_1.reshape(-1,1)*array_2\n",
    "print(result)\n"
   ]
  },
  {
   "cell_type": "markdown",
   "id": "f2049818",
   "metadata": {},
   "source": [
    "# Exercise 7: NaN\n",
    "## Handling missing data in numpy arrays"
   ]
  },
  {
   "cell_type": "code",
   "execution_count": 57,
   "id": "83a9fd72",
   "metadata": {},
   "outputs": [
    {
     "name": "stdout",
     "output_type": "stream",
     "text": [
      "[[ 7.  1.  7.]\n",
      " [nan  2.  2.]\n",
      " [nan  8.  8.]\n",
      " [ 9.  3.  9.]\n",
      " [ 8.  9.  8.]\n",
      " [nan  2.  2.]\n",
      " [ 8.  2.  8.]\n",
      " [nan  6.  6.]\n",
      " [ 9.  2.  9.]\n",
      " [ 8.  5.  8.]]\n"
     ]
    }
   ],
   "source": [
    "import numpy as np\n",
    "\n",
    "generator = np.random.default_rng(123)\n",
    "grades = np.round(generator.uniform(low=0.0,high=10.0,size=(10,2)))\n",
    "grades[[1,2,5,7],[0,0,0,0]] = np.nan\n",
    "# print(grades)\n",
    "\n",
    "#third_column, uses first column if available\n",
    "third_col = np.where(np.isnan(grades[:,0]),grades[:,1],grades[:,0])\n",
    "final_grade = np.hstack([grades,third_col.reshape(-1,1)])\n",
    "print(final_grade)"
   ]
  },
  {
   "cell_type": "markdown",
   "id": "da5ac3a6",
   "metadata": {},
   "source": [
    "# Exercise 8: Wine Dataset Analysis\n",
    "## Fundamental data analysis using NumPy"
   ]
  },
  {
   "cell_type": "code",
   "execution_count": 60,
   "id": "595de2aa",
   "metadata": {},
   "outputs": [
    {
     "name": "stdout",
     "output_type": "stream",
     "text": [
      "# Exercise 8: Wine Dataset Analysis\n",
      "## Fundamental data analysis using NumPy\n",
      "\n",
      "Downloading wine dataset...\n",
      "Download complete!\n",
      "1. Data loaded and optimized:\n",
      "Shape: (1599, 12)\n",
      "Data type: float32\n",
      "Memory usage: 76752 bytes\n",
      "2. Selected rows (2nd, 7th, 12th):\n",
      "[[7.800e+00 8.800e-01 0.000e+00 2.600e+00 9.800e-02 2.500e+01 6.700e+01\n",
      "  9.968e-01 3.200e+00 6.800e-01 9.800e+00 5.000e+00]\n",
      " [7.900e+00 6.000e-01 6.000e-02 1.600e+00 6.900e-02 1.500e+01 5.900e+01\n",
      "  9.964e-01 3.300e+00 4.600e-01 9.400e+00 5.000e+00]\n",
      " [7.500e+00 5.000e-01 3.600e-01 6.100e+00 7.100e-02 1.700e+01 1.020e+02\n",
      "  9.978e-01 3.350e+00 8.000e-01 1.050e+01 5.000e+00]]\n",
      "Shape of selected rows: (3, 12)\n",
      "\n",
      "3. Any wine with alcohol > 20%:\n",
      "False\n",
      "\n",
      "4. Average alcohol percentage:\n",
      "10.42%\n",
      "\n",
      "5. pH statistics:\n",
      "min            : 2.7400\n",
      "max            : 4.0100\n",
      "25th_percentile: 3.2100\n",
      "50th_percentile: 3.3100\n",
      "75th_percentile: 3.4000\n",
      "mean           : 3.3111\n",
      "\n",
      "6. Average quality of wines with 20% least sulphate:\n",
      "20th percentile of sulphates: 0.5400\n",
      "Average quality: 5.2162\n",
      "Number of wines in this group: 370\n",
      "\n",
      "7. Mean of all variables for best and worst quality wines:\n",
      "Best quality: 8.0\n",
      "Worst quality: 3.0\n",
      "Number of best quality wines: 18\n",
      "Number of worst quality wines: 10\n",
      "\n",
      "Mean values for best quality wines:\n",
      "fixed acidity       : 8.5667\n",
      "volatile acidity    : 0.4233\n",
      "citric acid         : 0.3911\n",
      "residual sugar      : 2.5778\n",
      "chlorides           : 0.0684\n",
      "free sulfur dioxide : 13.2778\n",
      "total sulfur dioxide: 33.4444\n",
      "density             : 0.9952\n",
      "pH                  : 3.2672\n",
      "sulphates           : 0.7678\n",
      "alcohol             : 12.0944\n",
      "quality             : 8.0000\n",
      "\n",
      "Mean values for worst quality wines:\n",
      "fixed acidity       : 8.3600\n",
      "volatile acidity    : 0.8845\n",
      "citric acid         : 0.1710\n",
      "residual sugar      : 2.6350\n",
      "chlorides           : 0.1225\n",
      "free sulfur dioxide : 11.0000\n",
      "total sulfur dioxide: 24.9000\n",
      "density             : 0.9975\n",
      "pH                  : 3.3980\n",
      "sulphates           : 0.5700\n",
      "alcohol             : 9.9550\n",
      "quality             : 3.0000\n"
     ]
    }
   ],
   "source": [
    "import numpy as np\n",
    "import urllib.request\n",
    "import os\n",
    "import tempfile\n",
    "\n",
    "\n",
    "# Step 1: Load the data from the provided URL\n",
    "url = \"https://learn.zone01kisumu.ke/api/content/root/public/subjects/ai/numpy/data/winequality-red.csv\"\n",
    "\n",
    "try:\n",
    "    # Create a temporary file to store the downloaded data\n",
    "    with tempfile.NamedTemporaryFile(delete=False, suffix='.csv') as temp_file:\n",
    "        temp_filename = temp_file.name\n",
    "    \n",
    "    print(\"Downloading wine dataset...\")\n",
    "    urllib.request.urlretrieve(url, temp_filename)\n",
    "    print(\"Download complete!\")\n",
    "    \n",
    "    # Load the data using genfromtxt with delimiter ';', skip header, and optimize data types\n",
    "    wine_data = np.genfromtxt(temp_filename, delimiter=';', skip_header=1, dtype=np.float32)\n",
    "    \n",
    "    # Clean up temporary file\n",
    "    os.unlink(temp_filename)\n",
    "    \n",
    "except Exception as e:\n",
    "    print(f\"Error downloading or loading data: {e}\")\n",
    "    # If download fails, create mock data for demonstration\n",
    "    print(\"Creating mock data for demonstration purposes...\")\n",
    "    np.random.seed(42)\n",
    "    wine_data = np.random.rand(1599, 12).astype(np.float32)\n",
    "    # Scale to realistic wine values\n",
    "    wine_data[:, 0] = wine_data[:, 0] * 4 + 4      # fixed acidity: 4-8\n",
    "    wine_data[:, 1] = wine_data[:, 1] * 0.5 + 0.2  # volatile acidity: 0.2-0.7\n",
    "    wine_data[:, 8] = wine_data[:, 8] * 1 + 2.5    # pH: 2.5-3.5\n",
    "    wine_data[:, 9] = wine_data[:, 9] * 0.8 + 0.3  # sulphates: 0.3-1.1\n",
    "    wine_data[:, 10] = wine_data[:, 10] * 4 + 8    # alcohol: 8-12%\n",
    "    wine_data[:, 11] = np.round(wine_data[:, 11] * 5 + 3)  # quality: 3-8\n",
    "\n",
    "print(\"1. Data loaded and optimized:\")\n",
    "print(f\"Shape: {wine_data.shape}\")\n",
    "print(f\"Data type: {wine_data.dtype}\")\n",
    "print(f\"Memory usage: {wine_data.nbytes} bytes\")\n",
    "\n",
    "\n",
    "# Step 2: Display specific rows (2nd, 7th, 12th)\n",
    "# Note: genfromtxt skips header, so row indices are 0-based\n",
    "rows_to_display = np.array([1, 6, 11])  # 2nd, 7th, 12th rows (0-indexed)\n",
    "selected_rows = wine_data[rows_to_display]\n",
    "\n",
    "print(\"2. Selected rows (2nd, 7th, 12th):\")\n",
    "print(selected_rows)\n",
    "print(f\"Shape of selected rows: {selected_rows.shape}\\n\")\n",
    "\n",
    "# Step 3: Check if any wine has alcohol > 20%\n",
    "alcohol_greater_than_20 = np.any(wine_data[:, 10] > 20.0)  # Alcohol is column 10 (0-indexed)\n",
    "print(\"3. Any wine with alcohol > 20%:\")\n",
    "print(alcohol_greater_than_20)\n",
    "print()\n",
    "\n",
    "# Step 4: Calculate average alcohol percentage\n",
    "average_alcohol = np.nanmean(wine_data[:, 10])\n",
    "print(\"4. Average alcohol percentage:\")\n",
    "print(f\"{average_alcohol:.2f}%\")\n",
    "print()\n",
    "\n",
    "# Step 5: Statistical measures for pH values (column 8)\n",
    "ph_values = wine_data[:, 8]  # pH is column 8\n",
    "\n",
    "ph_stats = {\n",
    "    'min': np.nanmin(ph_values),\n",
    "    'max': np.nanmax(ph_values),\n",
    "    '25th_percentile': np.nanpercentile(ph_values, 25),\n",
    "    '50th_percentile': np.nanpercentile(ph_values, 50),\n",
    "    '75th_percentile': np.nanpercentile(ph_values, 75),\n",
    "    'mean': np.nanmean(ph_values)\n",
    "}\n",
    "\n",
    "print(\"5. pH statistics:\")\n",
    "for stat, value in ph_stats.items():\n",
    "    print(f\"{stat:15}: {value:.4f}\")\n",
    "print()\n",
    "\n",
    "# Step 6: Average quality of wines with 20% least sulphate content\n",
    "sulphates = wine_data[:, 9]  # Sulphates is column 9\n",
    "quality = wine_data[:, 11]   # Quality is column 11\n",
    "\n",
    "# Get 20th percentile of sulphates\n",
    "sulphates_20th_percentile = np.nanpercentile(sulphates, 20)\n",
    "\n",
    "# Create boolean mask for wines with sulphate <= 20th percentile\n",
    "low_sulphate_mask = sulphates <= sulphates_20th_percentile\n",
    "\n",
    "# Calculate average quality for these wines\n",
    "avg_quality_low_sulphate = np.nanmean(quality[low_sulphate_mask])\n",
    "\n",
    "print(\"6. Average quality of wines with 20% least sulphate:\")\n",
    "print(f\"20th percentile of sulphates: {sulphates_20th_percentile:.4f}\")\n",
    "print(f\"Average quality: {avg_quality_low_sulphate:.4f}\")\n",
    "print(f\"Number of wines in this group: {np.sum(low_sulphate_mask)}\")\n",
    "print()\n",
    "\n",
    "# Step 7: Mean of all variables for best and worst quality wines\n",
    "best_quality = np.nanmax(quality)\n",
    "worst_quality = np.nanmin(quality)\n",
    "\n",
    "# Create masks for best and worst quality wines\n",
    "best_quality_mask = quality == best_quality\n",
    "worst_quality_mask = quality == worst_quality\n",
    "\n",
    "# Calculate mean of all variables for each group\n",
    "best_quality_means = np.nanmean(wine_data[best_quality_mask], axis=0)\n",
    "worst_quality_means = np.nanmean(wine_data[worst_quality_mask], axis=0)\n",
    "\n",
    "print(\"7. Mean of all variables for best and worst quality wines:\")\n",
    "print(f\"Best quality: {best_quality}\")\n",
    "print(f\"Worst quality: {worst_quality}\")\n",
    "print(f\"Number of best quality wines: {np.sum(best_quality_mask)}\")\n",
    "print(f\"Number of worst quality wines: {np.sum(worst_quality_mask)}\")\n",
    "\n",
    "# Column names for reference (from the dataset description)\n",
    "column_names = [\n",
    "    'fixed acidity', 'volatile acidity', 'citric acid', 'residual sugar',\n",
    "    'chlorides', 'free sulfur dioxide', 'total sulfur dioxide', 'density',\n",
    "    'pH', 'sulphates', 'alcohol', 'quality'\n",
    "]\n",
    "\n",
    "print(\"\\nMean values for best quality wines:\")\n",
    "for i, (name, value) in enumerate(zip(column_names, best_quality_means)):\n",
    "    print(f\"{name:20}: {value:.4f}\")\n",
    "\n",
    "print(\"\\nMean values for worst quality wines:\")\n",
    "for i, (name, value) in enumerate(zip(column_names, worst_quality_means)):\n",
    "    print(f\"{name:20}: {value:.4f}\")"
   ]
  },
  {
   "cell_type": "code",
   "execution_count": null,
   "id": "0e117174",
   "metadata": {},
   "outputs": [],
   "source": []
  }
 ],
 "metadata": {
  "kernelspec": {
   "display_name": "Python 3 (ipykernel)",
   "language": "python",
   "name": "python3"
  },
  "language_info": {
   "codemirror_mode": {
    "name": "ipython",
    "version": 3
   },
   "file_extension": ".py",
   "mimetype": "text/x-python",
   "name": "python",
   "nbconvert_exporter": "python",
   "pygments_lexer": "ipython3",
   "version": "3.12.3"
  }
 },
 "nbformat": 4,
 "nbformat_minor": 5
}

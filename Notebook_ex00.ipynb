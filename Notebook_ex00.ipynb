{
 "cells": [
  {
   "cell_type": "code",
   "execution_count": 2,
   "id": "057a3342",
   "metadata": {},
   "outputs": [],
   "source": [
    "# H1 TITLE\n",
    "## H2 TITLE"
   ]
  },
  {
   "cell_type": "code",
   "execution_count": 1,
   "id": "25cada1b",
   "metadata": {},
   "outputs": [
    {
     "name": "stdout",
     "output_type": "stream",
     "text": [
      "Buy the dip ?\n"
     ]
    }
   ],
   "source": [
    "print(\"Buy the dip ?\")"
   ]
  },
  {
   "cell_type": "code",
   "execution_count": null,
   "id": "1ef34607",
   "metadata": {},
   "outputs": [],
   "source": [
    "# Exercise 1\n",
    "## Numpy array (data types)"
   ]
  },
  {
   "cell_type": "code",
   "execution_count": 1,
   "id": "aab0b735",
   "metadata": {},
   "outputs": [
    {
     "name": "stdout",
     "output_type": "stream",
     "text": [
      "<class 'int'>\n",
      "<class 'float'>\n",
      "<class 'str'>\n",
      "<class 'dict'>\n",
      "<class 'list'>\n",
      "<class 'tuple'>\n",
      "<class 'set'>\n",
      "<class 'bool'>\n"
     ]
    }
   ],
   "source": [
    "import numpy as np\n",
    "\n",
    "my_array = np.array([\n",
    "    10, #int\n",
    "    3.142, #float\n",
    "    \"hello world\", #string\n",
    "    {\"key\":\"value\"}, #dictionary\n",
    "    [1,2,3], #list\n",
    "    (2,4,6), #tuple\n",
    "    {4,8,12}, #set\n",
    "    True, #boolean\n",
    "    \n",
    "], dtype=object) #the dtype=object is used to store heterogeneous types\n",
    "\n",
    "for i in my_array:\n",
    "    print(type(i))"
   ]
  },
  {
   "cell_type": "code",
   "execution_count": null,
   "id": "adb6eab0",
   "metadata": {},
   "outputs": [],
   "source": []
  }
 ],
 "metadata": {
  "kernelspec": {
   "display_name": "Python 3 (ipykernel)",
   "language": "python",
   "name": "python3"
  },
  "language_info": {
   "codemirror_mode": {
    "name": "ipython",
    "version": 3
   },
   "file_extension": ".py",
   "mimetype": "text/x-python",
   "name": "python",
   "nbconvert_exporter": "python",
   "pygments_lexer": "ipython3",
   "version": "3.12.3"
  }
 },
 "nbformat": 4,
 "nbformat_minor": 5
}
